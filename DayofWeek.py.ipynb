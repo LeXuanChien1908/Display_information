{
 "cells": [
  {
   "cell_type": "code",
   "execution_count": null,
   "id": "39505739",
   "metadata": {},
   "outputs": [],
   "source": [
    "num = int(input(\"Nhập số ngẫu nhien từ 1-7): \"))\n",
    "if num == 1:\n",
    "\tprint(\"Thứ 2\")\n",
    "elif num == 2:\n",
    "\tprint(\"Thứ 3\")\n",
    "elif num == 3:\n",
    "\tprint(\"Thứ 4\")\n",
    "elif num == 4:\n",
    "\tprint(\"Thứ 5\")\n",
    "elif num == 5:\n",
    "\tprint(\"Thứ 6\")\n",
    "elif num == 6:\n",
    "\tprint(\"Thứ 7\")\n",
    "elif num == 7:\n",
    "\tprint(\"Chủ Nhật\")\n",
    "else:\n",
    "print(\"Không hợp lệ\")"
   ]
  }
 ],
 "metadata": {
  "kernelspec": {
   "display_name": "Python 3 (ipykernel)",
   "language": "python",
   "name": "python3"
  },
  "language_info": {
   "codemirror_mode": {
    "name": "ipython",
    "version": 3
   },
   "file_extension": ".py",
   "mimetype": "text/x-python",
   "name": "python",
   "nbconvert_exporter": "python",
   "pygments_lexer": "ipython3",
   "version": "3.9.12"
  }
 },
 "nbformat": 4,
 "nbformat_minor": 5
}
