{
 "cells": [
  {
   "cell_type": "code",
   "execution_count": null,
   "id": "9d810741",
   "metadata": {},
   "outputs": [],
   "source": [
    "num = int(input(\"Nhập Giá: \"))\n",
    "if num >= 150:\n",
    "\tprint(\"Thanh Toán: \", num - 50)\n",
    "elif num >= 100:\n",
    "\tprint(\"Thanh Toán: \", num - 25)\n",
    "elif num >= 75:\n",
    "\tprint(\"Thanh Toán: \", num - 15)\n",
    "else:\n",
    "print(\"Thanh Toán: \", num)"
   ]
  }
 ],
 "metadata": {
  "kernelspec": {
   "display_name": "Python 3 (ipykernel)",
   "language": "python",
   "name": "python3"
  },
  "language_info": {
   "codemirror_mode": {
    "name": "ipython",
    "version": 3
   },
   "file_extension": ".py",
   "mimetype": "text/x-python",
   "name": "python",
   "nbconvert_exporter": "python",
   "pygments_lexer": "ipython3",
   "version": "3.9.12"
  }
 },
 "nbformat": 4,
 "nbformat_minor": 5
}
