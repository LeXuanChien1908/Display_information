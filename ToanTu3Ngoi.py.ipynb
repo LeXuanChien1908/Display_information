{
 "cells": [
  {
   "cell_type": "code",
   "execution_count": 10,
   "id": "7feed447",
   "metadata": {},
   "outputs": [
    {
     "name": "stdout",
     "output_type": "stream",
     "text": [
      "nhập số vào đây:1\n",
      "Lẻ\n"
     ]
    }
   ],
   "source": [
    "number = int(input(\"nhập số vào đây:\"))\n",
    "a= \"\"\n",
    "if(number%2  == 0):\n",
    "    a = \"Chẵn\"\n",
    "else:\n",
    "    a = \"Lẻ\"\n",
    "print(a)"
   ]
  },
  {
   "cell_type": "code",
   "execution_count": null,
   "id": "a23f4867",
   "metadata": {},
   "outputs": [],
   "source": []
  }
 ],
 "metadata": {
  "kernelspec": {
   "display_name": "Python 3 (ipykernel)",
   "language": "python",
   "name": "python3"
  },
  "language_info": {
   "codemirror_mode": {
    "name": "ipython",
    "version": 3
   },
   "file_extension": ".py",
   "mimetype": "text/x-python",
   "name": "python",
   "nbconvert_exporter": "python",
   "pygments_lexer": "ipython3",
   "version": "3.9.12"
  }
 },
 "nbformat": 4,
 "nbformat_minor": 5
}
