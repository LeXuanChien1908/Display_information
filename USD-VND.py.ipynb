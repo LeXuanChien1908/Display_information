{
 "cells": [
  {
   "cell_type": "code",
   "execution_count": 4,
   "id": "37807e14",
   "metadata": {},
   "outputs": [
    {
     "name": "stdout",
     "output_type": "stream",
     "text": [
      "nhập dữ liệu cần đổi:2\n",
      "Đổi tiền:\n",
      "2 USD = 48000 VND\n"
     ]
    }
   ],
   "source": [
    "USD = int(input(\"nhập dữ liệu cần đổi:\"))\n",
    "VND = USD * 24000\n",
    "print(\"Đổi tiền:\") \n",
    "print (str(USD) + \" USD = \" + str(VND) + \" VND\")\n",
    "\n"
   ]
  },
  {
   "cell_type": "code",
   "execution_count": null,
   "id": "44bc5b7f",
   "metadata": {},
   "outputs": [],
   "source": []
  }
 ],
 "metadata": {
  "kernelspec": {
   "display_name": "Python 3 (ipykernel)",
   "language": "python",
   "name": "python3"
  },
  "language_info": {
   "codemirror_mode": {
    "name": "ipython",
    "version": 3
   },
   "file_extension": ".py",
   "mimetype": "text/x-python",
   "name": "python",
   "nbconvert_exporter": "python",
   "pygments_lexer": "ipython3",
   "version": "3.9.12"
  }
 },
 "nbformat": 4,
 "nbformat_minor": 5
}
